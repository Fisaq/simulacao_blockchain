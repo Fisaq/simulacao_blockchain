{
 "cells": [
  {
   "cell_type": "markdown",
   "id": "019f3ed6",
   "metadata": {},
   "source": [
    "## Análise e Extensão de um Código de Mineração Blockchain"
   ]
  },
  {
   "cell_type": "markdown",
   "id": "b1cf4134",
   "metadata": {},
   "source": [
    "### 1. Introdução\n",
    "\n",
    "O objetivo deste trabalho é analisar, modificar e estender o algoritmo que simula uma Blockchain distribuída com múltiplos nós e assim consolidar os conhecimentos adquiridos durante a disciplina de **Programação Distribuída e Concorrente**. Com este trabalho será possível:\n",
    "\n",
    "* Compreender os mecanismos de mineração por prova de trabalho (PoW).\n",
    "* Explorar concorrência no processo de mineração (uso de threads ou multiprocessing).\n",
    "* Simular uma rede blockchain distribuída com múltiplos nós minerando blocos.\n",
    "* Identificar desafios reais de consenso, propagação e sincronização."
   ]
  },
  {
   "cell_type": "markdown",
   "id": "627824aa",
   "metadata": {},
   "source": [
    "### 2. Autoria\n",
    "\n",
    "**Aluno:** Isaque Ferreira de Paula Reis  \n",
    "**Turma:** CC7N  \n",
    "**Professor:** Wanderson Muniz de Santana  "
   ]
  },
  {
   "cell_type": "code",
   "execution_count": 10,
   "id": "2e17d3e5",
   "metadata": {},
   "outputs": [
    {
     "name": "stderr",
     "output_type": "stream",
     "text": [
      "[NbConvertApp] Making directory ./docs\n",
      "[NbConvertApp] Converting notebook analise.ipynb to html\n",
      "[NbConvertApp] Writing 272623 bytes to docs\\analise_blockchain_isaque_ferreira_cc7n.html\n"
     ]
    }
   ],
   "source": [
    "!jupyter nbconvert --to html analise.ipynb --output-dir=./docs --output=analise_blockchain_isaque_ferreira_cc7n"
   ]
  }
 ],
 "metadata": {
  "kernelspec": {
   "display_name": "Python 3",
   "language": "python",
   "name": "python3"
  },
  "language_info": {
   "codemirror_mode": {
    "name": "ipython",
    "version": 3
   },
   "file_extension": ".py",
   "mimetype": "text/x-python",
   "name": "python",
   "nbconvert_exporter": "python",
   "pygments_lexer": "ipython3",
   "version": "3.10.11"
  }
 },
 "nbformat": 4,
 "nbformat_minor": 5
}
